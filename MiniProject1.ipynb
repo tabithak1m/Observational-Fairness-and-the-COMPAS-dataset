{
  "nbformat": 4,
  "nbformat_minor": 0,
  "metadata": {
    "colab": {
      "provenance": []
    },
    "kernelspec": {
      "name": "python3",
      "display_name": "Python 3"
    },
    "language_info": {
      "name": "python"
    },
    "accelerator": "GPU",
    "gpuClass": "standard"
  },
  "cells": [
    {
      "cell_type": "markdown",
      "source": [
        "Importing needed libraries"
      ],
      "metadata": {
        "id": "7bvHQ_cHyKt0"
      }
    },
    {
      "cell_type": "code",
      "execution_count": null,
      "metadata": {
        "id": "X-Slg23-x8PE"
      },
      "outputs": [],
      "source": [
        "#Tom's Libraries Addition\n",
        "import pandas as pd\n",
        "import torch\n",
        "import torch.nn as nn\n",
        "import numpy as np\n",
        "import matplotlib.pyplot as plt\n",
        "from sklearn.model_selection import train_test_split\n",
        "from sklearn.preprocessing import StandardScaler\n",
        "from sklearn.calibration import calibration_curve\n",
        "from sklearn.metrics import confusion_matrix, accuracy_score\n",
        "from tqdm import tqdm\n",
        "import warnings\n",
        "warnings.filterwarnings('ignore')\n",
        "\n",
        "\n",
        "#Tabitha's Libraries Addition\n",
        "import torch.optim as optim\n",
        "from torch.utils.data import TensorDataset, DataLoader\n",
        "from torch.optim.lr_scheduler import ReduceLROnPlateau"
      ]
    },
    {
      "cell_type": "markdown",
      "source": [
        "# **Part 1**"
      ],
      "metadata": {
        "id": "9NHWNfcsyo0A"
      }
    },
    {
      "cell_type": "markdown",
      "source": [
        "Obtaining the data set"
      ],
      "metadata": {
        "id": "ShJR3RNlglgR"
      }
    },
    {
      "cell_type": "code",
      "source": [
        "data = pd.read_csv('https://raw.githubusercontent.com/propublica/compas-analysis/master/compas-scores-two-years.csv',index_col = 0)"
      ],
      "metadata": {
        "id": "Xp7eSZ2lgm3I"
      },
      "execution_count": null,
      "outputs": []
    },
    {
      "cell_type": "markdown",
      "source": [
        "Processing the Dataset"
      ],
      "metadata": {
        "id": "KCyQmbqly70R"
      }
    },
    {
      "cell_type": "code",
      "source": [
        "#Goal State\n",
        "y = data[\"two_year_recid\"]\n",
        "\n",
        "#Discarding all unused features\n",
        "used_features = ['sex','age','priors_count','race']\n",
        "\n",
        "\n",
        "discarded_features = []\n",
        "for col in data.columns:\n",
        "  if col not in used_features:\n",
        "    discarded_features.append(col)\n",
        "\n",
        "X = data.drop(columns = discarded_features)\n",
        "\n",
        "#Changing the feature 'sex' from a string into an integer with tag male: 0 and female: 1\n",
        "X['sex'] = X['sex'].replace({'Male':0, 'Female':1})\n",
        "\n",
        "#Converting it to Numpy Array\n",
        "X = X.to_numpy()\n",
        "y = y.to_numpy()\n",
        "\n",
        "#Using a 80:20 split for the training and testing set\n",
        "X_train, X_test, y_train, y_test = train_test_split(X,y, test_size = 0.2, random_state = 23)\n",
        "\n",
        "#Getting the number of samples and features\n",
        "X = np.delete(X, 2, axis = 1)\n",
        "num_samples, num_features = X.shape\n",
        "\n",
        "#Getting the race for training and test set. to be used later\n",
        "X_train_race = X_train\n",
        "X_test_race = X_test[:,2]\n",
        "X_train_race_used = X_train[:,2]\n",
        "\n",
        "#Remodify the data to remove race\n",
        "X_train = np.delete(X_train, 2, axis = 1)\n",
        "X_test = np.delete(X_test, 2, axis = 1)\n",
        "\n",
        "#Converting the data to tensor type\n",
        "X_train = torch.from_numpy(X_train.astype('float32'))\n",
        "X_test = torch.from_numpy(X_test.astype('float32'))\n",
        "y_train = torch.from_numpy(y_train.astype('float32'))\n",
        "y_test = torch.from_numpy(y_test.astype('float32'))\n",
        "\n",
        "#Reducing the shape of the goal vector to just a single column\n",
        "y_train = y_train.view(y_train.shape[0],1)\n",
        "y_test = y_test.view(y_test.shape[0],1)"
      ],
      "metadata": {
        "id": "ttvtGFdDy0CZ"
      },
      "execution_count": null,
      "outputs": []
    },
    {
      "cell_type": "markdown",
      "source": [
        "Model"
      ],
      "metadata": {
        "id": "Iag4ILs7IAzM"
      }
    },
    {
      "cell_type": "markdown",
      "source": [
        "Setting up the Logistic Regression Model"
      ],
      "metadata": {
        "id": "wV_K6GivIqWs"
      }
    },
    {
      "cell_type": "code",
      "source": [
        "class LogisticRegression(torch.nn.Module):\n",
        "  def __init__(self,n_input_features):\n",
        "    super(LogisticRegression,self).__init__()\n",
        "    self.Linear = torch.nn.Linear(n_input_features, 1)\n",
        "\n",
        "  def forward(self,x):\n",
        "    return torch.sigmoid(self.Linear(x))"
      ],
      "metadata": {
        "id": "VZA2kwYgIDtX"
      },
      "execution_count": null,
      "outputs": []
    },
    {
      "cell_type": "markdown",
      "source": [
        "Running the model"
      ],
      "metadata": {
        "id": "nNfwvpkIkefM"
      }
    },
    {
      "cell_type": "code",
      "source": [
        "#Setting up for Accuracy % Losses Graphing\n",
        "training_accs = []\n",
        "test_accs = []\n",
        "training_loss = []\n",
        "test_losses = []\n",
        "epochs = []\n",
        "\n",
        "#Calling the object with num_features (3)\n",
        "model = LogisticRegression(num_features)\n",
        "\n",
        "#Defining the loss as log loss or binary cross entropy loss\n",
        "criterion = nn.BCELoss()\n",
        "\n",
        "#Defining the optimizer as Stochastic Gradient Descent with a learning rate of 0.01\n",
        "learning_rate = 0.001\n",
        "optimizer = torch.optim.SGD(model.parameters(), lr = learning_rate)\n",
        "\n",
        "#Training Loop\n",
        "num_epochs = 100000\n",
        "for epoch in tqdm(range(num_epochs),desc = 'Training Epoch'):\n",
        "\n",
        "  #Call the forward pass\n",
        "  y_pred = model(X_train)\n",
        "  loss = criterion(y_pred,y_train)\n",
        "\n",
        "  #Summing up gradient\n",
        "  loss.backward()\n",
        "\n",
        "  #Call updates\n",
        "  optimizer.step()\n",
        "\n",
        "  #Emptying the gradients\n",
        "  optimizer.zero_grad()\n",
        "\n",
        "  if (epoch % 5000) == 0:\n",
        "    with torch.no_grad():\n",
        "      print(f'\\nepoch: {epoch}')\n",
        "      epochs.append(epoch)\n",
        "\n",
        "      #Figuring out Training Losses and Accuracy\n",
        "      training_acc = y_pred.round().eq(y_train).sum()/float(y_train.shape[0])\n",
        "      training_accs.append(training_acc)\n",
        "      training_loss.append(loss.item())\n",
        "      print(f'Training Loss: {loss.item():.4f} | Training Accuracy: {training_acc}')\n",
        "\n",
        "      #Figuring out Test Losses and Accuracy\n",
        "      y_pred_test = model(X_test).round()\n",
        "      test_acc = y_pred_test.eq(y_test).sum()/float(y_test.shape[0])\n",
        "      test_accs.append(test_acc)\n",
        "      test_loss = criterion(y_pred_test,y_test)\n",
        "      test_losses.append(test_loss.item())\n",
        "      print(f'Test Loss: {test_loss.item():.4f} | Test Accuracy: {test_acc}')\n",
        "\n",
        "\n",
        "with torch.no_grad():\n",
        "  y_pred = model(X_test).round()\n",
        "  accuracy = y_pred.eq(y_test).sum()/float(y_test.shape[0])\n",
        "  print('\\n')\n",
        "  print(f'Final Test Accuracy: {accuracy:.4f}')"
      ],
      "metadata": {
        "colab": {
          "base_uri": "https://localhost:8080/"
        },
        "id": "IyQWHAIckfic",
        "outputId": "d3009016-8f47-46ca-c0b4-1eb981d5a599"
      },
      "execution_count": null,
      "outputs": [
        {
          "output_type": "stream",
          "name": "stderr",
          "text": [
            "Training Epoch:   0%|          | 109/100000 [00:00<02:55, 568.32it/s]"
          ]
        },
        {
          "output_type": "stream",
          "name": "stdout",
          "text": [
            "\n",
            "epoch: 0\n",
            "Training Loss: 33.3100 | Training Accuracy: 0.4529544413089752\n",
            "Test Loss: 55.8559 | Test Accuracy: 0.44144144654273987\n"
          ]
        },
        {
          "output_type": "stream",
          "name": "stderr",
          "text": [
            "Training Epoch:   5%|▌         | 5259/100000 [00:04<01:01, 1529.72it/s]"
          ]
        },
        {
          "output_type": "stream",
          "name": "stdout",
          "text": [
            "\n",
            "epoch: 5000\n",
            "Training Loss: 0.6345 | Training Accuracy: 0.6409634351730347\n",
            "Test Loss: 35.5509 | Test Accuracy: 0.644490659236908\n"
          ]
        },
        {
          "output_type": "stream",
          "name": "stderr",
          "text": [
            "Training Epoch:  10%|█         | 10223/100000 [00:07<00:59, 1521.09it/s]"
          ]
        },
        {
          "output_type": "stream",
          "name": "stdout",
          "text": [
            "\n",
            "epoch: 10000\n",
            "Training Loss: 0.6313 | Training Accuracy: 0.6449488997459412\n",
            "Test Loss: 35.2737 | Test Accuracy: 0.6472626328468323\n"
          ]
        },
        {
          "output_type": "stream",
          "name": "stderr",
          "text": [
            "Training Epoch:  15%|█▌        | 15151/100000 [00:11<01:14, 1141.37it/s]"
          ]
        },
        {
          "output_type": "stream",
          "name": "stdout",
          "text": [
            "\n",
            "epoch: 15000\n",
            "Training Loss: 0.6287 | Training Accuracy: 0.6470282673835754\n",
            "Test Loss: 34.7886 | Test Accuracy: 0.652113676071167\n"
          ]
        },
        {
          "output_type": "stream",
          "name": "stderr",
          "text": [
            "Training Epoch:  20%|██        | 20224/100000 [00:15<00:51, 1547.67it/s]"
          ]
        },
        {
          "output_type": "stream",
          "name": "stdout",
          "text": [
            "\n",
            "epoch: 20000\n",
            "Training Loss: 0.6266 | Training Accuracy: 0.6489343047142029\n",
            "Test Loss: 34.3035 | Test Accuracy: 0.6569646596908569\n"
          ]
        },
        {
          "output_type": "stream",
          "name": "stderr",
          "text": [
            "Training Epoch:  25%|██▌       | 25260/100000 [00:18<00:50, 1476.68it/s]"
          ]
        },
        {
          "output_type": "stream",
          "name": "stdout",
          "text": [
            "\n",
            "epoch: 25000\n",
            "Training Loss: 0.6248 | Training Accuracy: 0.651360273361206\n",
            "Test Loss: 33.6105 | Test Accuracy: 0.6638946533203125\n"
          ]
        },
        {
          "output_type": "stream",
          "name": "stderr",
          "text": [
            "Training Epoch:  30%|███       | 30285/100000 [00:21<00:47, 1466.34it/s]"
          ]
        },
        {
          "output_type": "stream",
          "name": "stdout",
          "text": [
            "\n",
            "epoch: 30000\n",
            "Training Loss: 0.6234 | Training Accuracy: 0.6539594531059265\n",
            "Test Loss: 33.3333 | Test Accuracy: 0.6666666865348816\n"
          ]
        },
        {
          "output_type": "stream",
          "name": "stderr",
          "text": [
            "Training Epoch:  35%|███▌      | 35228/100000 [00:25<00:46, 1387.71it/s]"
          ]
        },
        {
          "output_type": "stream",
          "name": "stdout",
          "text": [
            "\n",
            "epoch: 35000\n",
            "Training Loss: 0.6223 | Training Accuracy: 0.6556922793388367\n",
            "Test Loss: 33.6105 | Test Accuracy: 0.6638946533203125\n"
          ]
        },
        {
          "output_type": "stream",
          "name": "stderr",
          "text": [
            "Training Epoch:  40%|████      | 40281/100000 [00:29<00:38, 1532.52it/s]"
          ]
        },
        {
          "output_type": "stream",
          "name": "stdout",
          "text": [
            "\n",
            "epoch: 40000\n",
            "Training Loss: 0.6214 | Training Accuracy: 0.6586380004882812\n",
            "Test Loss: 33.1254 | Test Accuracy: 0.6687456965446472\n"
          ]
        },
        {
          "output_type": "stream",
          "name": "stderr",
          "text": [
            "Training Epoch:  45%|████▌     | 45275/100000 [00:32<00:34, 1568.97it/s]"
          ]
        },
        {
          "output_type": "stream",
          "name": "stdout",
          "text": [
            "\n",
            "epoch: 45000\n",
            "Training Loss: 0.6206 | Training Accuracy: 0.6610639691352844\n",
            "Test Loss: 32.9868 | Test Accuracy: 0.6701316833496094\n"
          ]
        },
        {
          "output_type": "stream",
          "name": "stderr",
          "text": [
            "Training Epoch:  50%|█████     | 50181/100000 [00:35<00:45, 1105.17it/s]"
          ]
        },
        {
          "output_type": "stream",
          "name": "stdout",
          "text": [
            "\n",
            "epoch: 50000\n",
            "Training Loss: 0.6200 | Training Accuracy: 0.6633166074752808\n",
            "Test Loss: 32.7789 | Test Accuracy: 0.672210693359375\n"
          ]
        },
        {
          "output_type": "stream",
          "name": "stderr",
          "text": [
            "Training Epoch:  55%|█████▌    | 55164/100000 [00:39<00:29, 1515.37it/s]"
          ]
        },
        {
          "output_type": "stream",
          "name": "stdout",
          "text": [
            "\n",
            "epoch: 55000\n",
            "Training Loss: 0.6195 | Training Accuracy: 0.664702832698822\n",
            "Test Loss: 32.2938 | Test Accuracy: 0.6770616769790649\n"
          ]
        },
        {
          "output_type": "stream",
          "name": "stderr",
          "text": [
            "Training Epoch:  60%|██████    | 60176/100000 [00:43<00:26, 1517.82it/s]"
          ]
        },
        {
          "output_type": "stream",
          "name": "stdout",
          "text": [
            "\n",
            "epoch: 60000\n",
            "Training Loss: 0.6190 | Training Accuracy: 0.6660890579223633\n",
            "Test Loss: 32.1552 | Test Accuracy: 0.6784476637840271\n"
          ]
        },
        {
          "output_type": "stream",
          "name": "stderr",
          "text": [
            "Training Epoch:  65%|██████▌   | 65226/100000 [00:46<00:23, 1473.23it/s]"
          ]
        },
        {
          "output_type": "stream",
          "name": "stdout",
          "text": [
            "\n",
            "epoch: 65000\n",
            "Training Loss: 0.6187 | Training Accuracy: 0.6662623286247253\n",
            "Test Loss: 31.9473 | Test Accuracy: 0.6805266737937927\n"
          ]
        },
        {
          "output_type": "stream",
          "name": "stderr",
          "text": [
            "Training Epoch:  70%|███████   | 70247/100000 [00:50<00:21, 1361.08it/s]"
          ]
        },
        {
          "output_type": "stream",
          "name": "stdout",
          "text": [
            "\n",
            "epoch: 70000\n",
            "Training Loss: 0.6184 | Training Accuracy: 0.671980619430542\n",
            "Test Loss: 31.1157 | Test Accuracy: 0.6888427138328552\n"
          ]
        },
        {
          "output_type": "stream",
          "name": "stderr",
          "text": [
            "Training Epoch:  75%|███████▌  | 75290/100000 [00:53<00:16, 1520.30it/s]"
          ]
        },
        {
          "output_type": "stream",
          "name": "stdout",
          "text": [
            "\n",
            "epoch: 75000\n",
            "Training Loss: 0.6182 | Training Accuracy: 0.6718072891235352\n",
            "Test Loss: 31.1157 | Test Accuracy: 0.6888427138328552\n"
          ]
        },
        {
          "output_type": "stream",
          "name": "stderr",
          "text": [
            "Training Epoch:  80%|████████  | 80196/100000 [00:56<00:12, 1541.94it/s]"
          ]
        },
        {
          "output_type": "stream",
          "name": "stdout",
          "text": [
            "\n",
            "epoch: 80000\n",
            "Training Loss: 0.6180 | Training Accuracy: 0.671980619430542\n",
            "Test Loss: 31.1157 | Test Accuracy: 0.6888427138328552\n"
          ]
        },
        {
          "output_type": "stream",
          "name": "stderr",
          "text": [
            "Training Epoch:  85%|████████▌ | 85137/100000 [01:00<00:11, 1305.48it/s]"
          ]
        },
        {
          "output_type": "stream",
          "name": "stdout",
          "text": [
            "\n",
            "epoch: 85000\n",
            "Training Loss: 0.6178 | Training Accuracy: 0.6742332577705383\n",
            "Test Loss: 31.3236 | Test Accuracy: 0.6867637038230896\n"
          ]
        },
        {
          "output_type": "stream",
          "name": "stderr",
          "text": [
            "Training Epoch:  90%|█████████ | 90198/100000 [01:04<00:06, 1425.26it/s]"
          ]
        },
        {
          "output_type": "stream",
          "name": "stdout",
          "text": [
            "\n",
            "epoch: 90000\n",
            "Training Loss: 0.6177 | Training Accuracy: 0.6744065284729004\n",
            "Test Loss: 31.3236 | Test Accuracy: 0.6867637038230896\n"
          ]
        },
        {
          "output_type": "stream",
          "name": "stderr",
          "text": [
            "Training Epoch:  95%|█████████▌| 95269/100000 [01:07<00:03, 1478.99it/s]"
          ]
        },
        {
          "output_type": "stream",
          "name": "stdout",
          "text": [
            "\n",
            "epoch: 95000\n",
            "Training Loss: 0.6176 | Training Accuracy: 0.6744065284729004\n",
            "Test Loss: 31.3929 | Test Accuracy: 0.6860706806182861\n"
          ]
        },
        {
          "output_type": "stream",
          "name": "stderr",
          "text": [
            "Training Epoch: 100%|██████████| 100000/100000 [01:10<00:00, 1413.67it/s]"
          ]
        },
        {
          "output_type": "stream",
          "name": "stdout",
          "text": [
            "\n",
            "\n",
            "Final Test Accuracy: 0.6861\n"
          ]
        },
        {
          "output_type": "stream",
          "name": "stderr",
          "text": [
            "\n"
          ]
        }
      ]
    },
    {
      "cell_type": "markdown",
      "source": [
        "Graphing Accuracy"
      ],
      "metadata": {
        "id": "Pd9N3j48WGDE"
      }
    },
    {
      "cell_type": "code",
      "source": [
        "plt.plot(epochs,training_accs, label = \"Training Accuracy\")\n",
        "plt.plot(epochs,test_accs, label = \"Testing Accuracy\")\n",
        "plt.title(\"Testing Accuracy & Training Accuracy for each epoch\")\n",
        "plt.ylabel(\"Accuracy (%)\")\n",
        "plt.xlabel(\"Epochs\")\n",
        "plt.legend(loc = \"lower right\")\n",
        "plt.show()"
      ],
      "metadata": {
        "colab": {
          "base_uri": "https://localhost:8080/",
          "height": 472
        },
        "id": "UQ94OFxUWHRW",
        "outputId": "3f9e517d-9dfa-4108-9b38-8166ec9675ae"
      },
      "execution_count": null,
      "outputs": [
        {
          "output_type": "display_data",
          "data": {
            "text/plain": [
              "<Figure size 640x480 with 1 Axes>"
            ],
            "image/png": "[encoded data removed]"
          },
          "metadata": {}
        }
      ]
    },
    {
      "cell_type": "markdown",
      "source": [
        "Graphing Losses"
      ],
      "metadata": {
        "id": "EtUjyfaqY7n2"
      }
    },
    {
      "cell_type": "code",
      "source": [
        "plt.plot(epochs, training_loss, label = \"Training Loss\")\n",
        "plt.plot(epochs, test_losses, label = \"Test Loss\")\n",
        "plt.title(\"Testing Loss & Training Loss for each epoch\")\n",
        "plt.ylabel(\"Loss\")\n",
        "plt.xlabel(\"Epochs\")\n",
        "plt.legend(loc = \"lower right\")\n",
        "plt.show()"
      ],
      "metadata": {
        "colab": {
          "base_uri": "https://localhost:8080/",
          "height": 472
        },
        "id": "ZjHCKcHoY9D-",
        "outputId": "d328f19b-5380-4036-b906-e840950c38eb"
      },
      "execution_count": null,
      "outputs": [
        {
          "output_type": "display_data",
          "data": {
            "text/plain": [
              "<Figure size 640x480 with 1 Axes>"
            ],
            "image/png": "[encoded data removed]"
          },
          "metadata": {}
        }
      ]
    },
    {
      "cell_type": "markdown",
      "source": [
        "# **Checking for False Positive Parity**"
      ],
      "metadata": {
        "id": "mWB08x10ZlWq"
      }
    },
    {
      "cell_type": "markdown",
      "source": [
        "Transforming the prediction and target vector to numpy form and transposing them"
      ],
      "metadata": {
        "id": "uqbMklecGRgY"
      }
    },
    {
      "cell_type": "code",
      "source": [
        "y_pred = y_pred.numpy()\n",
        "y_test = y_test.numpy()\n",
        "y_test = y_test.transpose()\n",
        "y_pred = y_pred.transpose()"
      ],
      "metadata": {
        "id": "zkSO3xRzUtFs"
      },
      "execution_count": null,
      "outputs": []
    },
    {
      "cell_type": "markdown",
      "source": [
        "Determining the False Postiive Ratio for Caucasian and African-American dataset"
      ],
      "metadata": {
        "id": "TY_OrkwTGXhF"
      }
    },
    {
      "cell_type": "code",
      "source": [
        "#Calculating caucasian FPR\n",
        "white_true_neg = ((y_test == 0) & (y_pred == 0) & (X_test_race == 'Caucasian')).sum()\n",
        "white_false_positive = ((y_test == 0) & (y_pred == 1) & (X_test_race == 'Caucasian')).sum()\n",
        "white_fpr = white_false_positive / (white_true_neg + white_false_positive)\n",
        "print(\"False Positve Ratio for Caucasian demographic is \" + str(white_fpr))\n",
        "\n",
        "black_true_neg = ((y_test == 0) & (y_pred == 0) & (X_test_race == 'African-American')).sum()\n",
        "black_false_positive = ((y_test == 0) & (y_pred == 1) & (X_test_race == 'African-American')).sum()\n",
        "black_fpr = black_false_positive / (black_true_neg + black_false_positive)\n",
        "print(\"False Positive Ratio for African-American is \" + str(black_fpr))\n",
        "\n",
        "print('Difference between African-American fpr and Caucasian fpr is ' + str(abs(black_fpr - white_fpr)))\n",
        "\n",
        "var = np.sqrt((white_fpr * (1 - white_fpr) / ((X_test_race == 'Caucasian').sum())) + ((black_fpr * (1 - black_fpr))/ (X_test_race == 'African-American').sum()))\n",
        "error = np.sqrt(8) * var\n",
        "\n",
        "if abs(black_fpr - white_fpr) > error:\n",
        "  print(\"Model does not satisfy False Positive Parity\")\n",
        "else:\n",
        "  print(\"Model does satisfy False Positive Parity\")"
      ],
      "metadata": {
        "colab": {
          "base_uri": "https://localhost:8080/"
        },
        "id": "ALr8ing_ZHPQ",
        "outputId": "86de7c9f-1667-4a7b-b42b-3ebeedd03c53"
      },
      "execution_count": null,
      "outputs": [
        {
          "output_type": "stream",
          "name": "stdout",
          "text": [
            "False Positve Ratio for Caucasian demographic is 0.1498371335504886\n",
            "False Positive Ratio for African-American is 0.28610354223433243\n",
            "Difference between African-American fpr and Caucasian fpr is 0.13626640868384382\n",
            "Model does not satisfy False Positive Parity\n"
          ]
        }
      ]
    },
    {
      "cell_type": "markdown",
      "source": [
        "Note that this False Positive Parity Check is done using the test set, while the later False Positive Parity Check with a variable threshold is done using the training set instead since the Calibration is done using the training set as well."
      ],
      "metadata": {
        "id": "LOSywVu2uJlv"
      }
    },
    {
      "cell_type": "markdown",
      "source": [
        "# **Checking for Calibration**"
      ],
      "metadata": {
        "id": "_zPIWIDPdXw7"
      }
    },
    {
      "cell_type": "markdown",
      "source": [
        "Setting up African American only training set and Caucasian only training set and their respective target"
      ],
      "metadata": {
        "id": "lJGZA_Aieiic"
      }
    },
    {
      "cell_type": "markdown",
      "source": [
        "Converting the target for the training set to numpy form and transposing them"
      ],
      "metadata": {
        "id": "iO_csRR8GyfT"
      }
    },
    {
      "cell_type": "code",
      "source": [
        "y_train = y_train.numpy()\n",
        "y_train = y_train.transpose()"
      ],
      "metadata": {
        "id": "4DTOSqXOfP-x"
      },
      "execution_count": null,
      "outputs": []
    },
    {
      "cell_type": "markdown",
      "source": [
        "Dividing the dataset into caucasian and african american"
      ],
      "metadata": {
        "id": "Jf9mm4BKG5N9"
      }
    },
    {
      "cell_type": "code",
      "source": [
        "X_train_white = []\n",
        "X_train_black = []\n",
        "y_train_white = []\n",
        "y_train_black = []\n",
        "\n",
        "#Creating training set for African American and Caucasian\n",
        "for n,i in enumerate(X_train_race):\n",
        "  temp = []\n",
        "  temp2 = []\n",
        "  if i[2] == 'Caucasian':\n",
        "    temp.append(i[0])\n",
        "    temp.append(i[1])\n",
        "    temp.append(i[3])\n",
        "    X_train_white.append(temp)\n",
        "    y_train_white.append(y_train[0][n])\n",
        "  if i[2] == 'African-American':\n",
        "    temp2.append(i[0])\n",
        "    temp2.append(i[1])\n",
        "    temp2.append(i[3])\n",
        "    X_train_black.append(temp2)\n",
        "    y_train_black.append(y_train[0][n])\n",
        "\n",
        "#Choosing only 10 percent of each race. This should be random, but it already is since the training set was randomly selected\n",
        "X_train_black = X_train_black[:int(len(X_train_black) * 0.1)]\n",
        "y_train_black = y_train_black[:int(len(y_train_black) * 0.1)]\n",
        "X_train_white = X_train_white[:int(len(X_train_white) * 0.1)]\n",
        "y_train_white = y_train_white[:int(len(y_train_white) * 0.1)]\n",
        "\n",
        "#Converting the training set tobe tensor format\n",
        "X_train_white = np.asarray(X_train_white)\n",
        "X_train_black = np.asarray(X_train_black)\n",
        "y_train_white = np.asarray(y_train_white)\n",
        "y_train_black = np.asarray(y_train_black)\n",
        "X_train_white = torch.from_numpy(X_train_white.astype('float32'))\n",
        "X_train_black = torch.from_numpy(X_train_black.astype('float32'))\n",
        "y_train_white = torch.from_numpy(y_train_white.astype('float32'))\n",
        "y_train_black = torch.from_numpy(y_train_black.astype('float32'))"
      ],
      "metadata": {
        "id": "spJaXMi1dbjI"
      },
      "execution_count": null,
      "outputs": []
    },
    {
      "cell_type": "markdown",
      "source": [
        "Calculating the calibration score"
      ],
      "metadata": {
        "id": "MPVa7hxwa6AP"
      }
    },
    {
      "cell_type": "code",
      "source": [
        "y_pred_white = model(X_train_white)\n",
        "y_pred_black = model(X_train_black)\n",
        "\n",
        "#Calculating confusion matrix\n",
        "with torch.no_grad():\n",
        "  white_matrix = confusion_matrix(y_train_white, torch.round(y_pred_white))\n",
        "  black_matrix = confusion_matrix(y_train_black, torch.round(y_pred_black))\n",
        "\n",
        "#Calculate Calibration Score\n",
        "score_white_1 = white_matrix[1][1] / (white_matrix[1][1] + white_matrix[0][1])\n",
        "score_black_1 = black_matrix[1][1] / (black_matrix[1][1] + black_matrix[0][1])\n",
        "\n",
        "score_white_0 = white_matrix[0][0] / (white_matrix[0][0] + white_matrix[1][0])\n",
        "score_black_0 = black_matrix[0][0] / (black_matrix[0][0] + black_matrix[1][0])\n",
        "\n",
        "#Calculate Variances and Errors\n",
        "var_1 = ((score_white_1 * (1 - score_white_1)) / X_train_white.shape[0]) + ((score_black_1 * (1 - score_black_1)) / X_train_black.shape[0])\n",
        "error_1 = 2 * np.sqrt(2) * np.sqrt(var_1)\n",
        "var_0 = ((score_white_0 * (1 - score_white_0)) / X_train_white.shape[0]) + ((score_black_0 * (1 - score_black_0)) / X_train_black.shape[0])\n",
        "error_0 = 2 * np.sqrt(2) * np.sqrt(var_0)\n",
        "\n",
        "#Determining if the model is calibrated\n",
        "if (abs(score_white_1 - score_black_1) < error_1) and (abs(score_white_0 - score_black_0) < error_0):\n",
        "  print(\"Model is properly Calibrated\")\n",
        "else:\n",
        "  print(\"Model is not properly Calibrated\")"
      ],
      "metadata": {
        "colab": {
          "base_uri": "https://localhost:8080/"
        },
        "id": "kaWTD15KaZht",
        "outputId": "79d9fe62-28f3-48b4-b824-66b2102c34c8"
      },
      "execution_count": null,
      "outputs": [
        {
          "output_type": "stream",
          "name": "stdout",
          "text": [
            "Model is properly Calibrated\n"
          ]
        }
      ]
    },
    {
      "cell_type": "markdown",
      "source": [
        "# **Adjusting the Threshold Inorder to Compare Calibration and False Positive Parity**"
      ],
      "metadata": {
        "id": "XPln2U-a2o8c"
      }
    },
    {
      "cell_type": "markdown",
      "source": [
        "Start first by writing the functions needed inorder to calculate False Positive Rate and Calibration"
      ],
      "metadata": {
        "id": "ohYeNFAG59uR"
      }
    },
    {
      "cell_type": "markdown",
      "source": [
        "Function for Calibration\n"
      ],
      "metadata": {
        "id": "L8HifvK17NOm"
      }
    },
    {
      "cell_type": "code",
      "source": [
        "def determine_calibration(white_threshold, black_threshold, y_pred_white, y_pred_black):\n",
        "\n",
        "  white_threshold = round(white_threshold,1)\n",
        "  black_threshold = round(black_threshold,1)\n",
        "\n",
        "  #Determining the prediction outcome with the given threshold\n",
        "  y_pred_black_actual = []\n",
        "  y_pred_white_actual = []\n",
        "  for i in y_pred_white[0]:\n",
        "    if i > white_threshold:\n",
        "      y_pred_white_actual.append(1)\n",
        "    else:\n",
        "      y_pred_white_actual.append(0)\n",
        "  \n",
        "  for i in y_pred_black[0]:\n",
        "    if i > black_threshold:\n",
        "      y_pred_black_actual.append(1)\n",
        "    else:\n",
        "      y_pred_black_actual.append(0)\n",
        "\n",
        "  #Converting the data back to tensor\n",
        "  y_pred_black_actual = np.asarray(y_pred_black_actual)\n",
        "  y_pred_white_actual = np.asarray(y_pred_white_actual)\n",
        "  y_pred_black_actual = torch.from_numpy(y_pred_black_actual.astype('float32'))\n",
        "  y_pred_white_actual = torch.from_numpy(y_pred_white_actual.astype('float32'))\n",
        "\n",
        "  #Calculate the confusion Matrixes\n",
        "  with torch.no_grad():\n",
        "    white_matrix = confusion_matrix(y_train_white, torch.round(y_pred_white_actual - white_threshold + 0.5))\n",
        "    black_matrix = confusion_matrix(y_train_black, torch.round(y_pred_black_actual  - black_threshold + 0.5))\n",
        "\n",
        "  #Calculate Calibration Score\n",
        "  score_white_1 = round(white_matrix[1][1] / (white_matrix[1][1] + white_matrix[0][1]),1)\n",
        "  score_black_1 = round(black_matrix[1][1] / (black_matrix[1][1] + black_matrix[0][1]),1)\n",
        "\n",
        "  score_white_0 = round(white_matrix[0][0] / (white_matrix[0][0] + white_matrix[1][0]),1)\n",
        "  score_black_0 = round(black_matrix[0][0] / (black_matrix[0][0] + black_matrix[1][0]),1)\n",
        "\n",
        "  #Calculate Variances and Errors\n",
        "  var_1 = ((score_white_1 * (1 - score_white_1)) / X_train_white.shape[0]) + ((score_black_1 * (1 - score_black_1)) / X_train_black.shape[0])\n",
        "  error_1 = 2 * np.sqrt(2) * np.sqrt(var_1)\n",
        "  var_0 = ((score_white_0 * (1 - score_white_0)) / X_train_white.shape[0]) + ((score_black_0 * (1 - score_black_0)) / X_train_black.shape[0])\n",
        "  error_0 = 2 * np.sqrt(2) * np.sqrt(var_0)\n",
        "\n",
        "  #Determining if the model is calibrated\n",
        "  if (abs(score_white_1 - score_black_1) < error_1) and (abs(score_white_0 - score_black_0) < error_0):\n",
        "    print(\"Model is properly Calibrated\\n\")\n",
        "    return True\n",
        "  else:\n",
        "    print(\"Model is not properly Calibrated\\n\")\n",
        "    return False"
      ],
      "metadata": {
        "id": "PZZnJeGL8aFM"
      },
      "execution_count": null,
      "outputs": []
    },
    {
      "cell_type": "markdown",
      "source": [
        "Function for False Positive Parity"
      ],
      "metadata": {
        "id": "6hkInxRqCDLs"
      }
    },
    {
      "cell_type": "code",
      "source": [
        "def fpr_calculation(white_threshold, black_threshold, y_pred):\n",
        "\n",
        "  white_threshold = round(white_threshold,1)\n",
        "  black_threshold = round(black_threshold,1)\n",
        "\n",
        "  y_pred_black = []\n",
        "  y_pred_white = []\n",
        "  for i in y_pred[0]:\n",
        "    if i > white_threshold:\n",
        "      y_pred_white.append(1)\n",
        "    else:\n",
        "      y_pred_white.append(0)\n",
        "  \n",
        "  for i in y_pred[0]:\n",
        "    if i > black_threshold:\n",
        "      y_pred_black.append(1)\n",
        "    else:\n",
        "      y_pred_black.append(0)\n",
        "\n",
        "  y_pred_black = np.asarray(y_pred_black)\n",
        "  y_pred_white = np.asarray(y_pred_white)\n",
        "\n",
        "  white_true_neg = ((y_train == 0) & (y_pred_white == 0) & (X_train_race_used == 'Caucasian')).sum()\n",
        "  white_false_positive = ((y_train == 0) & (y_pred_white == 1) & (X_train_race_used == 'Caucasian')).sum()\n",
        "  white_fpr = white_false_positive / (white_true_neg + white_false_positive)\n",
        "  #print(\"False Positve Ratio for Caucasian demographic is \" + str(white_fpr))\n",
        "\n",
        "  black_true_neg = ((y_train == 0) & (y_pred_black == 0) & (X_train_race_used == 'African-American')).sum()\n",
        "  black_false_positive = ((y_train == 0) & (y_pred_black == 1) & (X_train_race_used == 'African-American')).sum()\n",
        "  black_fpr = black_false_positive / (black_true_neg + black_false_positive)\n",
        "  #print(\"False Positive Ratio for African-American is \" + str(black_fpr))\n",
        "\n",
        "  var = np.sqrt((white_fpr * (1 - white_fpr) / ((X_train_race_used == 'Caucasian').sum())) + ((black_fpr * (1 - black_fpr))/ (X_train_race_used == 'African-American').sum()))\n",
        "\n",
        "  error = np.sqrt(8) * var\n",
        "\n",
        "  if abs(black_fpr - white_fpr) > error:\n",
        "    print(\"Model does not satisfy False Positive Parity\")\n",
        "    return False\n",
        "  else:\n",
        "    print(\"Model does satisfy False Positive Parity\")\n",
        "    return True"
      ],
      "metadata": {
        "id": "jKZKUPViCK_s"
      },
      "execution_count": null,
      "outputs": []
    },
    {
      "cell_type": "markdown",
      "source": [
        "Looping through different thresholds for both African-American and Caucasian demographic starting at 0.1 ending at 1 for both"
      ],
      "metadata": {
        "id": "yriPZlh10zVx"
      }
    },
    {
      "cell_type": "code",
      "source": [
        "y_pred_white = model(X_train_white)\n",
        "y_pred_white = y_pred_white.detach().numpy()\n",
        "y_pred_white = y_pred_white.transpose()\n",
        "\n",
        "y_pred_black = model(X_train_black)\n",
        "y_pred_black = y_pred_black.detach().numpy()\n",
        "y_pred_black = y_pred_black.transpose()\n",
        "\n",
        "y_pred = model(X_train)\n",
        "y_pred = y_pred.detach().numpy()\n",
        "y_pred = y_pred.transpose()\n",
        "\n",
        "ans = []\n",
        "\n",
        "bt = 0.1\n",
        "wt = 0.1\n",
        "while bt < 1:\n",
        "  wt = 0.1\n",
        "  while wt < 1:\n",
        "    print(\"With African-American Threshold \" + str(round(bt,1)) + \" and Caucasian Threshold \" + str(round(wt,1)))\n",
        "    parity = fpr_calculation(wt,bt,y_pred)\n",
        "    cali = determine_calibration(wt, bt, y_pred_white, y_pred_black)\n",
        "\n",
        "    if parity == True and cali == False:\n",
        "      ans.append((round(wt,1),round(bt,1)))\n",
        "    wt += 0.1\n",
        "  bt += 0.1\n",
        "\n",
        "print(ans)"
      ],
      "metadata": {
        "colab": {
          "base_uri": "https://localhost:8080/"
        },
        "id": "mDM4wJX2xoEZ",
        "outputId": "3e765177-ac11-413c-f8f4-50332b81fe69"
      },
      "execution_count": null,
      "outputs": [
        {
          "output_type": "stream",
          "name": "stdout",
          "text": [
            "With African-American Threshold 0.1 and Caucasian Threshold 0.1\n",
            "Model does satisfy False Positive Parity\n",
            "Model is not properly Calibrated\n",
            "\n",
            "With African-American Threshold 0.1 and Caucasian Threshold 0.2\n",
            "Model does not satisfy False Positive Parity\n",
            "Model is not properly Calibrated\n",
            "\n",
            "With African-American Threshold 0.1 and Caucasian Threshold 0.3\n",
            "Model does not satisfy False Positive Parity\n",
            "Model is not properly Calibrated\n",
            "\n",
            "With African-American Threshold 0.1 and Caucasian Threshold 0.4\n",
            "Model does not satisfy False Positive Parity\n",
            "Model is not properly Calibrated\n",
            "\n",
            "With African-American Threshold 0.1 and Caucasian Threshold 0.5\n",
            "Model does not satisfy False Positive Parity\n",
            "Model is not properly Calibrated\n",
            "\n",
            "With African-American Threshold 0.1 and Caucasian Threshold 0.6\n",
            "Model does not satisfy False Positive Parity\n",
            "Model is not properly Calibrated\n",
            "\n",
            "With African-American Threshold 0.1 and Caucasian Threshold 0.7\n",
            "Model does not satisfy False Positive Parity\n",
            "Model is not properly Calibrated\n",
            "\n",
            "With African-American Threshold 0.1 and Caucasian Threshold 0.8\n",
            "Model does not satisfy False Positive Parity\n",
            "Model is not properly Calibrated\n",
            "\n",
            "With African-American Threshold 0.1 and Caucasian Threshold 0.9\n",
            "Model does not satisfy False Positive Parity\n",
            "Model is not properly Calibrated\n",
            "\n",
            "With African-American Threshold 0.1 and Caucasian Threshold 1.0\n",
            "Model does not satisfy False Positive Parity\n",
            "Model is not properly Calibrated\n",
            "\n",
            "With African-American Threshold 0.2 and Caucasian Threshold 0.1\n",
            "Model does not satisfy False Positive Parity\n",
            "Model is not properly Calibrated\n",
            "\n",
            "With African-American Threshold 0.2 and Caucasian Threshold 0.2\n",
            "Model does not satisfy False Positive Parity\n",
            "Model is not properly Calibrated\n",
            "\n",
            "With African-American Threshold 0.2 and Caucasian Threshold 0.3\n",
            "Model does not satisfy False Positive Parity\n",
            "Model is not properly Calibrated\n",
            "\n",
            "With African-American Threshold 0.2 and Caucasian Threshold 0.4\n",
            "Model does not satisfy False Positive Parity\n",
            "Model is not properly Calibrated\n",
            "\n",
            "With African-American Threshold 0.2 and Caucasian Threshold 0.5\n",
            "Model does not satisfy False Positive Parity\n",
            "Model is not properly Calibrated\n",
            "\n",
            "With African-American Threshold 0.2 and Caucasian Threshold 0.6\n",
            "Model does not satisfy False Positive Parity\n",
            "Model is not properly Calibrated\n",
            "\n",
            "With African-American Threshold 0.2 and Caucasian Threshold 0.7\n",
            "Model does not satisfy False Positive Parity\n",
            "Model is not properly Calibrated\n",
            "\n",
            "With African-American Threshold 0.2 and Caucasian Threshold 0.8\n",
            "Model does not satisfy False Positive Parity\n",
            "Model is not properly Calibrated\n",
            "\n",
            "With African-American Threshold 0.2 and Caucasian Threshold 0.9\n",
            "Model does not satisfy False Positive Parity\n",
            "Model is not properly Calibrated\n",
            "\n",
            "With African-American Threshold 0.2 and Caucasian Threshold 1.0\n",
            "Model does not satisfy False Positive Parity\n",
            "Model is not properly Calibrated\n",
            "\n",
            "With African-American Threshold 0.3 and Caucasian Threshold 0.1\n",
            "Model does not satisfy False Positive Parity\n",
            "Model is not properly Calibrated\n",
            "\n",
            "With African-American Threshold 0.3 and Caucasian Threshold 0.2\n",
            "Model does satisfy False Positive Parity\n",
            "Model is properly Calibrated\n",
            "\n",
            "With African-American Threshold 0.3 and Caucasian Threshold 0.3\n",
            "Model does not satisfy False Positive Parity\n",
            "Model is properly Calibrated\n",
            "\n",
            "With African-American Threshold 0.3 and Caucasian Threshold 0.4\n",
            "Model does not satisfy False Positive Parity\n",
            "Model is properly Calibrated\n",
            "\n",
            "With African-American Threshold 0.3 and Caucasian Threshold 0.5\n",
            "Model does not satisfy False Positive Parity\n",
            "Model is properly Calibrated\n",
            "\n",
            "With African-American Threshold 0.3 and Caucasian Threshold 0.6\n",
            "Model does not satisfy False Positive Parity\n",
            "Model is not properly Calibrated\n",
            "\n",
            "With African-American Threshold 0.3 and Caucasian Threshold 0.7\n",
            "Model does not satisfy False Positive Parity\n",
            "Model is not properly Calibrated\n",
            "\n",
            "With African-American Threshold 0.3 and Caucasian Threshold 0.8\n",
            "Model does not satisfy False Positive Parity\n",
            "Model is not properly Calibrated\n",
            "\n",
            "With African-American Threshold 0.3 and Caucasian Threshold 0.9\n",
            "Model does not satisfy False Positive Parity\n",
            "Model is not properly Calibrated\n",
            "\n",
            "With African-American Threshold 0.3 and Caucasian Threshold 1.0\n",
            "Model does not satisfy False Positive Parity\n",
            "Model is not properly Calibrated\n",
            "\n",
            "With African-American Threshold 0.4 and Caucasian Threshold 0.1\n",
            "Model does not satisfy False Positive Parity\n",
            "Model is not properly Calibrated\n",
            "\n",
            "With African-American Threshold 0.4 and Caucasian Threshold 0.2\n",
            "Model does not satisfy False Positive Parity\n",
            "Model is not properly Calibrated\n",
            "\n",
            "With African-American Threshold 0.4 and Caucasian Threshold 0.3\n",
            "Model does satisfy False Positive Parity\n",
            "Model is properly Calibrated\n",
            "\n",
            "With African-American Threshold 0.4 and Caucasian Threshold 0.4\n",
            "Model does not satisfy False Positive Parity\n",
            "Model is properly Calibrated\n",
            "\n",
            "With African-American Threshold 0.4 and Caucasian Threshold 0.5\n",
            "Model does not satisfy False Positive Parity\n",
            "Model is properly Calibrated\n",
            "\n",
            "With African-American Threshold 0.4 and Caucasian Threshold 0.6\n",
            "Model does not satisfy False Positive Parity\n",
            "Model is properly Calibrated\n",
            "\n",
            "With African-American Threshold 0.4 and Caucasian Threshold 0.7\n",
            "Model does not satisfy False Positive Parity\n",
            "Model is not properly Calibrated\n",
            "\n",
            "With African-American Threshold 0.4 and Caucasian Threshold 0.8\n",
            "Model does not satisfy False Positive Parity\n",
            "Model is not properly Calibrated\n",
            "\n",
            "With African-American Threshold 0.4 and Caucasian Threshold 0.9\n",
            "Model does not satisfy False Positive Parity\n",
            "Model is not properly Calibrated\n",
            "\n",
            "With African-American Threshold 0.4 and Caucasian Threshold 1.0\n",
            "Model does not satisfy False Positive Parity\n",
            "Model is not properly Calibrated\n",
            "\n",
            "With African-American Threshold 0.5 and Caucasian Threshold 0.1\n",
            "Model does not satisfy False Positive Parity\n",
            "Model is not properly Calibrated\n",
            "\n",
            "With African-American Threshold 0.5 and Caucasian Threshold 0.2\n",
            "Model does not satisfy False Positive Parity\n",
            "Model is not properly Calibrated\n",
            "\n",
            "With African-American Threshold 0.5 and Caucasian Threshold 0.3\n",
            "Model does not satisfy False Positive Parity\n",
            "Model is not properly Calibrated\n",
            "\n",
            "With African-American Threshold 0.5 and Caucasian Threshold 0.4\n",
            "Model does not satisfy False Positive Parity\n",
            "Model is not properly Calibrated\n",
            "\n",
            "With African-American Threshold 0.5 and Caucasian Threshold 0.5\n",
            "Model does not satisfy False Positive Parity\n",
            "Model is properly Calibrated\n",
            "\n",
            "With African-American Threshold 0.5 and Caucasian Threshold 0.6\n",
            "Model does not satisfy False Positive Parity\n",
            "Model is properly Calibrated\n",
            "\n",
            "With African-American Threshold 0.5 and Caucasian Threshold 0.7\n",
            "Model does not satisfy False Positive Parity\n",
            "Model is properly Calibrated\n",
            "\n",
            "With African-American Threshold 0.5 and Caucasian Threshold 0.8\n",
            "Model does not satisfy False Positive Parity\n",
            "Model is properly Calibrated\n",
            "\n",
            "With African-American Threshold 0.5 and Caucasian Threshold 0.9\n",
            "Model does not satisfy False Positive Parity\n",
            "Model is not properly Calibrated\n",
            "\n",
            "With African-American Threshold 0.5 and Caucasian Threshold 1.0\n",
            "Model does not satisfy False Positive Parity\n",
            "Model is not properly Calibrated\n",
            "\n",
            "With African-American Threshold 0.6 and Caucasian Threshold 0.1\n",
            "Model does not satisfy False Positive Parity\n",
            "Model is not properly Calibrated\n",
            "\n",
            "With African-American Threshold 0.6 and Caucasian Threshold 0.2\n",
            "Model does not satisfy False Positive Parity\n",
            "Model is not properly Calibrated\n",
            "\n",
            "With African-American Threshold 0.6 and Caucasian Threshold 0.3\n",
            "Model does not satisfy False Positive Parity\n",
            "Model is not properly Calibrated\n",
            "\n",
            "With African-American Threshold 0.6 and Caucasian Threshold 0.4\n",
            "Model does not satisfy False Positive Parity\n",
            "Model is not properly Calibrated\n",
            "\n",
            "With African-American Threshold 0.6 and Caucasian Threshold 0.5\n",
            "Model does satisfy False Positive Parity\n",
            "Model is properly Calibrated\n",
            "\n",
            "With African-American Threshold 0.6 and Caucasian Threshold 0.6\n",
            "Model does not satisfy False Positive Parity\n",
            "Model is properly Calibrated\n",
            "\n",
            "With African-American Threshold 0.6 and Caucasian Threshold 0.7\n",
            "Model does not satisfy False Positive Parity\n",
            "Model is properly Calibrated\n",
            "\n",
            "With African-American Threshold 0.6 and Caucasian Threshold 0.8\n",
            "Model does not satisfy False Positive Parity\n",
            "Model is properly Calibrated\n",
            "\n",
            "With African-American Threshold 0.6 and Caucasian Threshold 0.9\n",
            "Model does not satisfy False Positive Parity\n",
            "Model is not properly Calibrated\n",
            "\n",
            "With African-American Threshold 0.6 and Caucasian Threshold 1.0\n",
            "Model does not satisfy False Positive Parity\n",
            "Model is not properly Calibrated\n",
            "\n",
            "With African-American Threshold 0.7 and Caucasian Threshold 0.1\n",
            "Model does not satisfy False Positive Parity\n",
            "Model is not properly Calibrated\n",
            "\n",
            "With African-American Threshold 0.7 and Caucasian Threshold 0.2\n",
            "Model does not satisfy False Positive Parity\n",
            "Model is not properly Calibrated\n",
            "\n",
            "With African-American Threshold 0.7 and Caucasian Threshold 0.3\n",
            "Model does not satisfy False Positive Parity\n",
            "Model is not properly Calibrated\n",
            "\n",
            "With African-American Threshold 0.7 and Caucasian Threshold 0.4\n",
            "Model does not satisfy False Positive Parity\n",
            "Model is not properly Calibrated\n",
            "\n",
            "With African-American Threshold 0.7 and Caucasian Threshold 0.5\n",
            "Model does not satisfy False Positive Parity\n",
            "Model is not properly Calibrated\n",
            "\n",
            "With African-American Threshold 0.7 and Caucasian Threshold 0.6\n",
            "Model does satisfy False Positive Parity\n",
            "Model is properly Calibrated\n",
            "\n",
            "With African-American Threshold 0.7 and Caucasian Threshold 0.7\n",
            "Model does not satisfy False Positive Parity\n",
            "Model is not properly Calibrated\n",
            "\n",
            "With African-American Threshold 0.7 and Caucasian Threshold 0.8\n",
            "Model does not satisfy False Positive Parity\n",
            "Model is properly Calibrated\n",
            "\n",
            "With African-American Threshold 0.7 and Caucasian Threshold 0.9\n",
            "Model does not satisfy False Positive Parity\n",
            "Model is not properly Calibrated\n",
            "\n",
            "With African-American Threshold 0.7 and Caucasian Threshold 1.0\n",
            "Model does not satisfy False Positive Parity\n",
            "Model is not properly Calibrated\n",
            "\n",
            "With African-American Threshold 0.8 and Caucasian Threshold 0.1\n",
            "Model does not satisfy False Positive Parity\n",
            "Model is not properly Calibrated\n",
            "\n",
            "With African-American Threshold 0.8 and Caucasian Threshold 0.2\n",
            "Model does not satisfy False Positive Parity\n",
            "Model is not properly Calibrated\n",
            "\n",
            "With African-American Threshold 0.8 and Caucasian Threshold 0.3\n",
            "Model does not satisfy False Positive Parity\n",
            "Model is not properly Calibrated\n",
            "\n",
            "With African-American Threshold 0.8 and Caucasian Threshold 0.4\n",
            "Model does not satisfy False Positive Parity\n",
            "Model is not properly Calibrated\n",
            "\n",
            "With African-American Threshold 0.8 and Caucasian Threshold 0.5\n",
            "Model does not satisfy False Positive Parity\n",
            "Model is not properly Calibrated\n",
            "\n",
            "With African-American Threshold 0.8 and Caucasian Threshold 0.6\n",
            "Model does not satisfy False Positive Parity\n",
            "Model is properly Calibrated\n",
            "\n",
            "With African-American Threshold 0.8 and Caucasian Threshold 0.7\n",
            "Model does satisfy False Positive Parity\n",
            "Model is not properly Calibrated\n",
            "\n",
            "With African-American Threshold 0.8 and Caucasian Threshold 0.8\n",
            "Model does not satisfy False Positive Parity\n",
            "Model is properly Calibrated\n",
            "\n",
            "With African-American Threshold 0.8 and Caucasian Threshold 0.9\n",
            "Model does not satisfy False Positive Parity\n",
            "Model is not properly Calibrated\n",
            "\n",
            "With African-American Threshold 0.8 and Caucasian Threshold 1.0\n",
            "Model does not satisfy False Positive Parity\n",
            "Model is not properly Calibrated\n",
            "\n",
            "With African-American Threshold 0.9 and Caucasian Threshold 0.1\n",
            "Model does not satisfy False Positive Parity\n",
            "Model is not properly Calibrated\n",
            "\n",
            "With African-American Threshold 0.9 and Caucasian Threshold 0.2\n",
            "Model does not satisfy False Positive Parity\n",
            "Model is not properly Calibrated\n",
            "\n",
            "With African-American Threshold 0.9 and Caucasian Threshold 0.3\n",
            "Model does not satisfy False Positive Parity\n",
            "Model is not properly Calibrated\n",
            "\n",
            "With African-American Threshold 0.9 and Caucasian Threshold 0.4\n",
            "Model does not satisfy False Positive Parity\n",
            "Model is not properly Calibrated\n",
            "\n",
            "With African-American Threshold 0.9 and Caucasian Threshold 0.5\n",
            "Model does not satisfy False Positive Parity\n",
            "Model is not properly Calibrated\n",
            "\n",
            "With African-American Threshold 0.9 and Caucasian Threshold 0.6\n",
            "Model does not satisfy False Positive Parity\n",
            "Model is not properly Calibrated\n",
            "\n",
            "With African-American Threshold 0.9 and Caucasian Threshold 0.7\n",
            "Model does not satisfy False Positive Parity\n",
            "Model is not properly Calibrated\n",
            "\n",
            "With African-American Threshold 0.9 and Caucasian Threshold 0.8\n",
            "Model does satisfy False Positive Parity\n",
            "Model is not properly Calibrated\n",
            "\n",
            "With African-American Threshold 0.9 and Caucasian Threshold 0.9\n",
            "Model does not satisfy False Positive Parity\n",
            "Model is not properly Calibrated\n",
            "\n",
            "With African-American Threshold 0.9 and Caucasian Threshold 1.0\n",
            "Model does not satisfy False Positive Parity\n",
            "Model is not properly Calibrated\n",
            "\n",
            "With African-American Threshold 1.0 and Caucasian Threshold 0.1\n",
            "Model does not satisfy False Positive Parity\n",
            "Model is not properly Calibrated\n",
            "\n",
            "With African-American Threshold 1.0 and Caucasian Threshold 0.2\n",
            "Model does not satisfy False Positive Parity\n",
            "Model is not properly Calibrated\n",
            "\n",
            "With African-American Threshold 1.0 and Caucasian Threshold 0.3\n",
            "Model does not satisfy False Positive Parity\n",
            "Model is not properly Calibrated\n",
            "\n",
            "With African-American Threshold 1.0 and Caucasian Threshold 0.4\n",
            "Model does not satisfy False Positive Parity\n",
            "Model is not properly Calibrated\n",
            "\n",
            "With African-American Threshold 1.0 and Caucasian Threshold 0.5\n",
            "Model does not satisfy False Positive Parity\n",
            "Model is not properly Calibrated\n",
            "\n",
            "With African-American Threshold 1.0 and Caucasian Threshold 0.6\n",
            "Model does not satisfy False Positive Parity\n",
            "Model is not properly Calibrated\n",
            "\n",
            "With African-American Threshold 1.0 and Caucasian Threshold 0.7\n",
            "Model does not satisfy False Positive Parity\n",
            "Model is not properly Calibrated\n",
            "\n",
            "With African-American Threshold 1.0 and Caucasian Threshold 0.8\n",
            "Model does not satisfy False Positive Parity\n",
            "Model is not properly Calibrated\n",
            "\n",
            "With African-American Threshold 1.0 and Caucasian Threshold 0.9\n",
            "Model does satisfy False Positive Parity\n",
            "Model is not properly Calibrated\n",
            "\n",
            "With African-American Threshold 1.0 and Caucasian Threshold 1.0\n",
            "Model does satisfy False Positive Parity\n",
            "Model is not properly Calibrated\n",
            "\n",
            "[(0.1, 0.1), (0.7, 0.8), (0.8, 0.9), (0.9, 1.0), (1.0, 1.0)]\n"
          ]
        }
      ]
    },
    {
      "cell_type": "markdown",
      "source": [
        "The two thresholds that satisfies false positive parity (given as (threshold for caucasian, threshold for african-american)) are (0.1,0.1), (0.7,0.8), (0.8,0.9), (0.9,1.0).\n",
        "\n",
        "Note that (1.0,1.0) will be excluded since this data means every data point will result in the same outcome"
      ],
      "metadata": {
        "id": "uKKiSolfOV1K"
      }
    },
    {
      "cell_type": "markdown",
      "source": [
        "# **Part 2** (Option 1)\n",
        "\n",
        "**Obtaining validation set:**"
      ],
      "metadata": {
        "id": "OOlkriQIsjcM"
      }
    },
    {
      "cell_type": "code",
      "source": [
        "y = data[\"two_year_recid\"]\n",
        "\n",
        "used_features = ['sex','age','priors_count','race']\n",
        "\n",
        "\n",
        "discarded_features = []\n",
        "for col in data.columns:\n",
        "  if col not in used_features:\n",
        "    discarded_features.append(col)\n",
        "\n",
        "X = data.drop(columns = discarded_features)\n",
        "\n",
        "X['sex'] = X['sex'].replace({'Male':0, 'Female':1})\n",
        "\n",
        "X = X.to_numpy()\n",
        "y = y.to_numpy()\n",
        "\n",
        "# 80% training, 20% validation and testing\n",
        "X_train, X_temp, y_train, y_temp = train_test_split(X, y, test_size=0.2, random_state=15)\n",
        "\n",
        "# temp: 50% validation, 50% testing\n",
        "X_val, X_test, y_val, y_test = train_test_split(X_temp, y_temp, test_size=0.5, random_state=15)\n",
        "\n",
        "X_train_race = X_train\n",
        "X_val_race = X_val[:, 2]\n",
        "X_test_race = X_test[:, 2]\n",
        "\n",
        "X_train = np.delete(X_train, 2, axis = 1)\n",
        "X_val = np.delete(X_val, 2, axis = 1)\n",
        "X_test = np.delete(X_test, 2, axis = 1)\n",
        "\n",
        "X_train = torch.from_numpy(X_train.astype('float32'))\n",
        "X_val = torch.from_numpy(X_val.astype('float32'))\n",
        "X_test = torch.from_numpy(X_test.astype('float32'))\n",
        "y_train = torch.from_numpy(y_train.astype('float32'))\n",
        "y_val = torch.from_numpy(y_val.astype('float32'))\n",
        "y_test = torch.from_numpy(y_test.astype('float32'))\n",
        "\n",
        "y_train = y_train.view(y_train.shape[0], 1)\n",
        "y_val = y_val.view(y_val.shape[0], 1)\n",
        "y_test = y_test.view(y_test.shape[0], 1)"
      ],
      "metadata": {
        "id": "VkAbuM55Q3Kn"
      },
      "execution_count": null,
      "outputs": []
    },
    {
      "cell_type": "markdown",
      "source": [
        "**Traning and improving on your initial results:**\n",
        "\n",
        "Strategies from the Deep Learning Tuning Playbook:\n",
        "\n",
        "\n",
        "1.  Choosing the optimizer\n",
        "\n",
        "> *   Chose the Adam optimizer recommended in the playbook and tuned one of it's hyperparameters: the learning rate.\n",
        "> > * For <10 trials, only tuned the learning rate\n",
        "> > > *  Set the other hyperparameters: Beta 1, 2, and epsilon as their default values.\n",
        "\n",
        "\n",
        "2.  Choosing the initial configuration\n",
        "\n",
        "> *  Specified (1) model configuration, (2) optimizer hyperparameters, and (3) the number of training steps \n",
        "> > * Tuned the number of hidden layers, the learning rate of the optimizer, and the number of epochs, accordingly.\n",
        "> > * Followed the guide of \"find(ing) a simple, relatively fast, relatively low-resource-consumption configuration that obtains a \"reasonable\" result.\n",
        "> > > * Started with a constant learning rate = 1e-3 and 50 epochs and tuned accordingly from there\n",
        "> > * Implemented learning rate scheduling. \n",
        "\n",
        "3. Exploration vs exploitation\n",
        "\n",
        "> * I identified the learning rate of the optimizer and the fairness hyperparameter, beta as the hyperparameters the losses are most sensitive to. Thus, focused on tuning them as the playbook suggested. \n",
        "\n",
        "\n",
        "I also implemented early stopping to increase the efficiency of the testing.\n",
        "\n",
        "\n",
        "**Strategies that I did not implement:**\n",
        "\n",
        "1. Choosing the batch size:\n",
        "> * I did not choose a specific batch size and just set it as 1 (i.e. stochastic gradient descent)\n",
        "> > * Given the relatively simple model architecture + small dataset, I believed that stochastic gradient descent was a sufficient choice\n",
        "\n",
        "2. Optimizing the input pipeline:\n",
        "> * Since the dataset was relatively small and no complex preprocessing steps were involved, I concluded that the default PyTorch dataloader was sufficient, thus not necessarily optimizing the input pipeline. \n"
      ],
      "metadata": {
        "id": "vJIe8Iw5RhhN"
      }
    },
    {
      "cell_type": "code",
      "source": [
        "class FairAdversarialNetwork(nn.Module):\n",
        "    def __init__(self, input_size, hidden_size):\n",
        "        super(FairAdversarialNetwork, self).__init__()\n",
        "        self.g = nn.Sequential(\n",
        "            nn.Linear(input_size, hidden_size),\n",
        "            nn.ReLU() # activation\n",
        "        )\n",
        "        self.f_ = nn.Linear(hidden_size, 1) # f_ = f'\n",
        "        self.phi_ = nn.Linear(hidden_size, 1) # phi_ = φ'\n",
        "\n",
        "    def forward(self, x):\n",
        "        x_ = self.g(x) # x_ = x'\n",
        "        y_hat = self.f_(x_) \n",
        "        s_hat = self.phi_(x_) \n",
        "        return y_hat, s_hat\n",
        "\n",
        "input_size = 3  # num of input features\n",
        "hidden_size = 128 # num of hidden units in single hidden layer of FAD: HYPERPARAMETER\n",
        "model = FairAdversarialNetwork(input_size, hidden_size)\n",
        "\n",
        "# cost functions <-- our choice: Binary Cross Entropy Loss\n",
        "err_y = nn.BCELoss()\n",
        "err_s = nn.BCELoss()\n",
        "\n",
        "# optimizers\n",
        "opt_g = optim.Adam(model.g.parameters(), lr=1e-2) # learning rate: HYPERPARAMETER\n",
        "opt_f_ = optim.Adam(model.f_.parameters(), lr=1e-2)\n",
        "opt_phi_ = optim.Adam(model.phi_.parameters(), lr=1e-2)\n",
        "\n",
        "scheduler_g = ReduceLROnPlateau(opt_g, mode='min', factor=0.1, patience=3, verbose=True)\n",
        "scheduler_f_ = ReduceLROnPlateau(opt_f_, mode='min', factor=0.1, patience=3, verbose=True)\n",
        "scheduler_phi_ = ReduceLROnPlateau(opt_phi_, mode='min', factor=0.1, patience=3, verbose=True)\n",
        "\n",
        "num_epochs = 50 # HYPERPARAMETER\n",
        "beta = 0.5  # fairness HYPERPARAMETER\n",
        "\n",
        "patience = 5 # early stopping patience HYPERPARAMETER\n",
        "best_val_loss = float('inf')\n",
        "bad_epochs = 0\n",
        "\n",
        "for epoch in range(num_epochs):\n",
        "    for i, (x, y, s) in enumerate(zip(X_train, y_train, X_train[:, 0])):\n",
        "        x = x.float()\n",
        "        y = y.float()\n",
        "        s = s.float().unsqueeze(-1)  \n",
        "\n",
        "        y_hat, s_hat = model(x)\n",
        "\n",
        "        # to make them within range 0 to 1\n",
        "        y_hat = torch.sigmoid(y_hat)\n",
        "        s_hat = torch.sigmoid(s_hat)\n",
        "\n",
        "        loss_y = err_y(y_hat, y)\n",
        "        loss_s = err_s(s_hat, s)\n",
        "\n",
        "        opt_g.zero_grad()\n",
        "        opt_f_.zero_grad()\n",
        "\n",
        "        loss_y.backward(retain_graph=True)\n",
        "        opt_g.step()\n",
        "        opt_f_.step()\n",
        "\n",
        "        opt_g.zero_grad()\n",
        "        opt_phi_.zero_grad()\n",
        "\n",
        "        loss_s.backward()\n",
        "        for v in model.g.parameters():\n",
        "            v.grad.data = -beta * v.grad.data \n",
        "\n",
        "        opt_g.step()\n",
        "        opt_phi_.step()\n",
        "        \n",
        "    with torch.no_grad():\n",
        "        y_val_hat, _ = model(X_val)\n",
        "        y_val_hat = torch.sigmoid(y_val_hat)\n",
        "        val_loss = err_y(y_val_hat, y_val)\n",
        "\n",
        "    print(f\"Epoch {epoch+1}/{num_epochs}, Loss(y): {loss_y.item()}, Loss(s): {loss_s.item()},  Validation Loss(y): {val_loss.item()}\") \n",
        "\n",
        "    scheduler_g.step(val_loss)\n",
        "    scheduler_f_.step(val_loss)\n",
        "    scheduler_phi_.step(val_loss)\n",
        "\n",
        "    # early stopping:\n",
        "    if val_loss < best_val_loss:\n",
        "      best_val_loss = val_loss\n",
        "      bad_epochs = 0\n",
        "    else:\n",
        "      bad_epochs += 1\n",
        "      if bad_epochs >= patience:\n",
        "        print(\"Early Stopping\")\n",
        "        break\n",
        "\n",
        "y_test_hat, _ = model(X_test)\n",
        "y_test_hat = torch.sigmoid(y_test_hat)\n",
        "\n",
        "y_test_pred = (y_test_hat > 0.5).float()\n",
        "\n",
        "accuracy = torch.mean((y_test_pred == y_test).float()).item()\n",
        "\n",
        "print(f\"Accuracy: {accuracy * 100:.2f}%\")"
      ],
      "metadata": {
        "colab": {
          "base_uri": "https://localhost:8080/"
        },
        "outputId": "668f6fc8-25ad-4459-e491-6fbcbc1f3a9a",
        "id": "4iW-zvaKRldk"
      },
      "execution_count": null,
      "outputs": [
        {
          "output_type": "stream",
          "name": "stdout",
          "text": [
            "Epoch 1/50, Loss(y): 0.5231202244758606, Loss(s): 0.08469840884208679,  Validation Loss(y): 0.6392517685890198\n",
            "Epoch 2/50, Loss(y): 0.4813934564590454, Loss(s): 0.1541779339313507,  Validation Loss(y): 0.6273133754730225\n",
            "Epoch 3/50, Loss(y): 0.5757675170898438, Loss(s): 0.17742709815502167,  Validation Loss(y): 0.6229879856109619\n",
            "Epoch 4/50, Loss(y): 0.5833526253700256, Loss(s): 0.17776566743850708,  Validation Loss(y): 0.6233306527137756\n",
            "Epoch 5/50, Loss(y): 0.5864089131355286, Loss(s): 0.17772379517555237,  Validation Loss(y): 0.623771607875824\n",
            "Epoch 6/50, Loss(y): 0.5947917103767395, Loss(s): 0.1788390576839447,  Validation Loss(y): 0.6247473955154419\n",
            "Epoch 7/50, Loss(y): 0.5867666602134705, Loss(s): 0.1765347719192505,  Validation Loss(y): 0.624011754989624\n",
            "Epoch 00007: reducing learning rate of group 0 to 1.0000e-03.\n",
            "Epoch 00007: reducing learning rate of group 0 to 1.0000e-03.\n",
            "Epoch 00007: reducing learning rate of group 0 to 1.0000e-03.\n",
            "Epoch 8/50, Loss(y): 0.6689655780792236, Loss(s): 0.2161078155040741,  Validation Loss(y): 0.6116056442260742\n",
            "Epoch 9/50, Loss(y): 0.6633812785148621, Loss(s): 0.2138150930404663,  Validation Loss(y): 0.6113540530204773\n",
            "Epoch 10/50, Loss(y): 0.6571964621543884, Loss(s): 0.21244651079177856,  Validation Loss(y): 0.6112383008003235\n",
            "Epoch 11/50, Loss(y): 0.64817214012146, Loss(s): 0.2119152694940567,  Validation Loss(y): 0.6111063361167908\n",
            "Epoch 12/50, Loss(y): 0.640400230884552, Loss(s): 0.21172863245010376,  Validation Loss(y): 0.6109327673912048\n",
            "Epoch 13/50, Loss(y): 0.6390382051467896, Loss(s): 0.21140068769454956,  Validation Loss(y): 0.6108254194259644\n",
            "Epoch 14/50, Loss(y): 0.6391867399215698, Loss(s): 0.2111639529466629,  Validation Loss(y): 0.6107391119003296\n",
            "Epoch 15/50, Loss(y): 0.631160318851471, Loss(s): 0.21155011653900146,  Validation Loss(y): 0.6108304262161255\n",
            "Epoch 16/50, Loss(y): 0.6306792497634888, Loss(s): 0.2115899920463562,  Validation Loss(y): 0.6107633113861084\n",
            "Epoch 17/50, Loss(y): 0.6309818625450134, Loss(s): 0.21158279478549957,  Validation Loss(y): 0.6106836199760437\n",
            "Epoch 18/50, Loss(y): 0.6309744119644165, Loss(s): 0.21158990263938904,  Validation Loss(y): 0.6106245517730713\n",
            "Epoch 19/50, Loss(y): 0.6311818361282349, Loss(s): 0.21159207820892334,  Validation Loss(y): 0.6105647683143616\n",
            "Epoch 20/50, Loss(y): 0.6311516761779785, Loss(s): 0.21160992980003357,  Validation Loss(y): 0.6105186939239502\n",
            "Epoch 21/50, Loss(y): 0.631206214427948, Loss(s): 0.2116279900074005,  Validation Loss(y): 0.6104714870452881\n",
            "Epoch 22/50, Loss(y): 0.6314278244972229, Loss(s): 0.21164534986019135,  Validation Loss(y): 0.6104204058647156\n",
            "Epoch 23/50, Loss(y): 0.6314562559127808, Loss(s): 0.21167296171188354,  Validation Loss(y): 0.6103786826133728\n",
            "Epoch 24/50, Loss(y): 0.6314926743507385, Loss(s): 0.21170279383659363,  Validation Loss(y): 0.6103386282920837\n",
            "Epoch 25/50, Loss(y): 0.6314494609832764, Loss(s): 0.2117386907339096,  Validation Loss(y): 0.610302209854126\n",
            "Epoch 26/50, Loss(y): 0.631678581237793, Loss(s): 0.2117665559053421,  Validation Loss(y): 0.6102558970451355\n",
            "Epoch 27/50, Loss(y): 0.6307573318481445, Loss(s): 0.211843341588974,  Validation Loss(y): 0.6102584004402161\n",
            "Epoch 28/50, Loss(y): 0.6311501264572144, Loss(s): 0.21186277270317078,  Validation Loss(y): 0.6102085709571838\n",
            "Epoch 29/50, Loss(y): 0.6308068633079529, Loss(s): 0.21192432940006256,  Validation Loss(y): 0.6101879477500916\n",
            "Epoch 30/50, Loss(y): 0.6307461261749268, Loss(s): 0.21196551620960236,  Validation Loss(y): 0.61015385389328\n",
            "Epoch 31/50, Loss(y): 0.6304017305374146, Loss(s): 0.21201105415821075,  Validation Loss(y): 0.6101319193840027\n",
            "Epoch 32/50, Loss(y): 0.630640983581543, Loss(s): 0.21204158663749695,  Validation Loss(y): 0.6100879311561584\n",
            "Epoch 33/50, Loss(y): 0.6305868029594421, Loss(s): 0.21209032833576202,  Validation Loss(y): 0.6100558042526245\n",
            "Epoch 34/50, Loss(y): 0.6306029558181763, Loss(s): 0.21213796734809875,  Validation Loss(y): 0.6100218296051025\n",
            "Epoch 35/50, Loss(y): 0.6305467486381531, Loss(s): 0.21218730509281158,  Validation Loss(y): 0.6099924445152283\n",
            "Epoch 36/50, Loss(y): 0.6306257247924805, Loss(s): 0.21222813427448273,  Validation Loss(y): 0.6099573969841003\n",
            "Epoch 37/50, Loss(y): 0.6308268904685974, Loss(s): 0.21226124465465546,  Validation Loss(y): 0.6099178791046143\n",
            "Epoch 38/50, Loss(y): 0.6308135390281677, Loss(s): 0.21230250597000122,  Validation Loss(y): 0.6098899245262146\n",
            "Epoch 39/50, Loss(y): 0.6308786273002625, Loss(s): 0.21233919262886047,  Validation Loss(y): 0.6098588705062866\n",
            "Epoch 40/50, Loss(y): 0.6308411955833435, Loss(s): 0.21238011121749878,  Validation Loss(y): 0.6098334193229675\n",
            "Epoch 41/50, Loss(y): 0.6307847499847412, Loss(s): 0.21242164075374603,  Validation Loss(y): 0.6098089218139648\n",
            "Epoch 42/50, Loss(y): 0.6309828162193298, Loss(s): 0.2124556601047516,  Validation Loss(y): 0.6097726821899414\n",
            "Epoch 43/50, Loss(y): 0.6312395334243774, Loss(s): 0.21248678863048553,  Validation Loss(y): 0.6097350120544434\n",
            "Epoch 44/50, Loss(y): 0.6312325596809387, Loss(s): 0.21252436935901642,  Validation Loss(y): 0.6097104549407959\n",
            "Epoch 45/50, Loss(y): 0.6311826705932617, Loss(s): 0.21256405115127563,  Validation Loss(y): 0.6096882820129395\n",
            "Epoch 46/50, Loss(y): 0.6311233639717102, Loss(s): 0.21260380744934082,  Validation Loss(y): 0.609666645526886\n",
            "Epoch 47/50, Loss(y): 0.6310633420944214, Loss(s): 0.21264351904392242,  Validation Loss(y): 0.6096454858779907\n",
            "Epoch 48/50, Loss(y): 0.6311017870903015, Loss(s): 0.21267889440059662,  Validation Loss(y): 0.6096201539039612\n",
            "Epoch 49/50, Loss(y): 0.6313042044639587, Loss(s): 0.2127108871936798,  Validation Loss(y): 0.6095876693725586\n",
            "Epoch 50/50, Loss(y): 0.6312885284423828, Loss(s): 0.21274733543395996,  Validation Loss(y): 0.6095662713050842\n",
            "Accuracy: 68.01%\n"
          ]
        }
      ]
    },
    {
      "cell_type": "markdown",
      "source": [
        "**Mode Collapse:**"
      ],
      "metadata": {
        "id": "E87Dk3Bi7RS3"
      }
    },
    {
      "cell_type": "code",
      "source": [
        "class OutcomePredictor(nn.Module):\n",
        "    def __init__(self, hidden_size):\n",
        "        super(OutcomePredictor, self).__init__()\n",
        "        self.fc1 = nn.Linear(hidden_size, 32)\n",
        "        self.relu = nn.ReLU()\n",
        "        self.fc2 = nn.Linear(32, 1)\n",
        "\n",
        "    def forward(self, x_):\n",
        "        x = self.fc1(x_)\n",
        "        x = self.relu(x)\n",
        "        x = self.fc2(x)\n",
        "        return torch.sigmoid(x)\n",
        "\n",
        "# Get the x_ values for the train, validation, and test sets\n",
        "X_train_x_ = model.g(X_train)\n",
        "X_val_x_ = model.g(X_val)\n",
        "X_test_x_ = model.g(X_test)\n",
        "\n",
        "# Create tensors for the x_ values\n",
        "X_train_x_ = torch.from_numpy(X_train_x_.detach().numpy().astype('float32'))\n",
        "X_val_x_ = torch.from_numpy(X_val_x_.detach().numpy().astype('float32'))\n",
        "X_test_x_ = torch.from_numpy(X_test_x_.detach().numpy().astype('float32'))\n",
        "\n",
        "# Train OutcomePredictor using x'(= x_) activations\n",
        "outcome_predictor = OutcomePredictor(hidden_size)\n",
        "outcome_predictor_optimizer = optim.Adam(outcome_predictor.parameters(), lr=0.1)\n",
        "outcome_predictor_loss = nn.BCELoss()\n",
        "\n",
        "scheduler_outcome_predictor = ReduceLROnPlateau(outcome_predictor_optimizer, mode='min', factor=0.1, patience=3, verbose=True)\n",
        "\n",
        "num_epochs = 50\n",
        "patience = 5\n",
        "best_val_loss = float('inf')\n",
        "bad_epochs = 0\n",
        "\n",
        "for epoch in range(num_epochs):\n",
        "    for x_, y in zip(X_train_x_, y_train):\n",
        "        x_ = x_.float()\n",
        "        y = y.float()\n",
        "\n",
        "        y_hat = outcome_predictor(x_)\n",
        "\n",
        "        loss = outcome_predictor_loss(y_hat, y)\n",
        "\n",
        "        outcome_predictor_optimizer.zero_grad()\n",
        "        loss.backward()\n",
        "        outcome_predictor_optimizer.step()\n",
        "\n",
        "    with torch.no_grad():\n",
        "        y_val_hat = outcome_predictor(X_val_x_)\n",
        "        val_loss = outcome_predictor_loss(y_val_hat, y_val)\n",
        "    \n",
        "    print(f\"Epoch {epoch+1}/{num_epochs}, Loss: {loss.item()}, Validation Loss: {val_loss.item()}\")\n",
        "\n",
        "    scheduler_outcome_predictor.step(val_loss)\n",
        "\n",
        "    # Early stopping\n",
        "    if val_loss < best_val_loss:\n",
        "        best_val_loss = val_loss\n",
        "        bad_epochs = 0\n",
        "    else:\n",
        "        bad_epochs += 1\n",
        "        if bad_epochs >= patience:\n",
        "            print(\"Early Stopping\")\n",
        "            break\n",
        "\n",
        "y_hat_outcome_predictor = (outcome_predictor(X_test_x_) > 0.5).float()\n",
        "\n",
        "accuracy = (y_hat_outcome_predictor == y_test).sum().item() / y_test.shape[0]\n",
        "\n",
        "print(f\"Accuracy: {accuracy * 100:.2f}%\")"
      ],
      "metadata": {
        "colab": {
          "base_uri": "https://localhost:8080/"
        },
        "outputId": "b524167e-fb56-4e78-9e95-419833091230",
        "id": "BVCGPkGORpHG"
      },
      "execution_count": null,
      "outputs": [
        {
          "output_type": "stream",
          "name": "stdout",
          "text": [
            "Epoch 1/50, Loss: 0.5872561931610107, Validation Loss: 0.689481258392334\n",
            "Epoch 2/50, Loss: 0.5872560143470764, Validation Loss: 0.689481258392334\n",
            "Epoch 3/50, Loss: 0.5872560143470764, Validation Loss: 0.6894813776016235\n",
            "Epoch 4/50, Loss: 0.5872560143470764, Validation Loss: 0.6894813776016235\n",
            "Epoch 5/50, Loss: 0.5872560143470764, Validation Loss: 0.6894813776016235\n",
            "Epoch 00005: reducing learning rate of group 0 to 1.0000e-02.\n",
            "Epoch 6/50, Loss: 0.6293752193450928, Validation Loss: 0.6893521547317505\n",
            "Epoch 7/50, Loss: 0.6293757557868958, Validation Loss: 0.6893522143363953\n",
            "Epoch 8/50, Loss: 0.6293757557868958, Validation Loss: 0.6893522143363953\n",
            "Epoch 9/50, Loss: 0.6293757557868958, Validation Loss: 0.6893522143363953\n",
            "Epoch 10/50, Loss: 0.6293757557868958, Validation Loss: 0.6893522143363953\n",
            "Epoch 00010: reducing learning rate of group 0 to 1.0000e-03.\n",
            "Epoch 11/50, Loss: 0.6070735454559326, Validation Loss: 0.6890779137611389\n",
            "Epoch 12/50, Loss: 0.6058841943740845, Validation Loss: 0.6890786290168762\n",
            "Epoch 13/50, Loss: 0.6058176159858704, Validation Loss: 0.689078688621521\n",
            "Epoch 14/50, Loss: 0.6058138608932495, Validation Loss: 0.689078688621521\n",
            "Epoch 15/50, Loss: 0.6058136224746704, Validation Loss: 0.689078688621521\n",
            "Epoch 00015: reducing learning rate of group 0 to 1.0000e-04.\n",
            "Epoch 16/50, Loss: 0.603087306022644, Validation Loss: 0.689086377620697\n",
            "Early Stopping\n",
            "Accuracy: 53.19%\n"
          ]
        }
      ]
    },
    {
      "cell_type": "markdown",
      "source": [
        "Random baseline accuracy:"
      ],
      "metadata": {
        "id": "ROiDOGUHJ14T"
      }
    },
    {
      "cell_type": "code",
      "source": [
        "random_predictions = np.random.randint(0, 2, y_test.shape[0])\n",
        "random_accuracy = (random_predictions == y_test.numpy().flatten()).mean()\n",
        "\n",
        "print(f\"Random baseline accuracy: {random_accuracy * 100:.2f}%\")"
      ],
      "metadata": {
        "colab": {
          "base_uri": "https://localhost:8080/"
        },
        "id": "61NP-WQJJ5oD",
        "outputId": "4615c57d-aa51-41a6-f722-e33a27079ca9"
      },
      "execution_count": null,
      "outputs": [
        {
          "output_type": "stream",
          "name": "stdout",
          "text": [
            "Random baseline accuracy: 54.16%\n"
          ]
        }
      ]
    },
    {
      "cell_type": "markdown",
      "source": [
        "You can see here that the accuracy is about the same as the random baseline accuracy (for this trial, the OutputPredictor accuracy was 53.19% and the random baseline accuracy was 54.16% unlike the main model with an accuracy of 68.01%), thus it is impossible to train a network to predict the outcome of interest from it."
      ],
      "metadata": {
        "id": "ccQ3BtjgVUjx"
      }
    },
    {
      "cell_type": "markdown",
      "source": [
        "**Improving Performance:**"
      ],
      "metadata": {
        "id": "DG4wtvyt7kaG"
      }
    },
    {
      "cell_type": "code",
      "source": [
        "class GradientReversalFunction(torch.autograd.Function):\n",
        "    @staticmethod\n",
        "    def forward(ctx, x, alpha):\n",
        "        ctx.alpha = alpha\n",
        "        return x.view_as(x)\n",
        "\n",
        "    @staticmethod\n",
        "    def backward(ctx, grad_output):\n",
        "        grad_input = grad_output.neg() * ctx.alpha\n",
        "        return grad_input, None\n",
        "\n",
        "best_val_loss = float('inf')\n",
        "bad_epochs = 0\n",
        "\n",
        "# Training loop with gradient reversal\n",
        "for epoch in range(num_epochs):\n",
        "    for i, (x, y, s) in enumerate(zip(X_train, y_train, X_train[:, 0])):\n",
        "        x = x.float()\n",
        "        y = y.float()\n",
        "        s = s.float().unsqueeze(-1)\n",
        "\n",
        "        y_hat, s_hat = model(x)\n",
        "\n",
        "        y_hat = torch.sigmoid(y_hat)\n",
        "        s_hat = torch.sigmoid(s_hat)\n",
        "\n",
        "        loss_y = err_y(y_hat, y)\n",
        "        loss_s = err_s(s_hat, s)\n",
        "\n",
        "        opt_g.zero_grad()\n",
        "        opt_f_.zero_grad()\n",
        "\n",
        "        loss_y.backward(retain_graph=True)\n",
        "        opt_g.step()\n",
        "        opt_f_.step()\n",
        "\n",
        "        opt_g.zero_grad()\n",
        "        opt_phi_.zero_grad()\n",
        "\n",
        "        # gradient reversal\n",
        "        x_ = model.g(x).detach()\n",
        "        x_.requires_grad_(True)\n",
        "        s_hat = model.phi_(GradientReversalFunction.apply(x_, beta))\n",
        "        s_hat = torch.sigmoid(s_hat)\n",
        "\n",
        "        loss_s = err_s(s_hat, s)\n",
        "        loss_s.backward()\n",
        "        opt_phi_.step()\n",
        "\n",
        "    with torch.no_grad():\n",
        "        y_val_hat, _ = model(X_val)\n",
        "        y_val_hat = torch.sigmoid(y_val_hat)\n",
        "        val_loss = err_y(y_val_hat, y_val)\n",
        "\n",
        "    print(f\"Epoch {epoch+1}/{num_epochs}, Loss(y): {loss_y.item()}, Loss(s): {loss_s.item()},  Validation Loss(y): {val_loss.item()}\") \n",
        "\n",
        "    scheduler_g.step(val_loss)\n",
        "    scheduler_f_.step(val_loss)\n",
        "    scheduler_phi_.step(val_loss)\n",
        "\n",
        "    # early stopping:\n",
        "    if val_loss < best_val_loss:\n",
        "      best_val_loss = val_loss\n",
        "      bad_epochs = 0\n",
        "    else:\n",
        "      bad_epochs += 1\n",
        "      if bad_epochs >= patience:\n",
        "        print(\"Early Stopping\")\n",
        "        break\n",
        "\n",
        "y_test_hat, _ = model(X_test)\n",
        "y_test_hat = torch.sigmoid(y_test_hat)\n",
        "\n",
        "y_test_pred = (y_test_hat > 0.5).float()\n",
        "\n",
        "accuracy = torch.mean((y_test_pred == y_test).float()).item()\n",
        "\n",
        "print(f\"Accuracy: {accuracy * 100:.2f}%\")"
      ],
      "metadata": {
        "colab": {
          "base_uri": "https://localhost:8080/"
        },
        "outputId": "73cfd539-afef-4f01-b6f7-469106237cf6",
        "id": "05enLSlkRw6q"
      },
      "execution_count": null,
      "outputs": [
        {
          "output_type": "stream",
          "name": "stdout",
          "text": [
            "Epoch 1/50, Loss(y): 0.6412372589111328, Loss(s): 0.2139877825975418,  Validation Loss(y): 0.6093387603759766\n",
            "Epoch 2/50, Loss(y): 0.6486008167266846, Loss(s): 0.21354207396507263,  Validation Loss(y): 0.6092073917388916\n",
            "Epoch 3/50, Loss(y): 0.6529906988143921, Loss(s): 0.21232746541500092,  Validation Loss(y): 0.6091622114181519\n",
            "Epoch 4/50, Loss(y): 0.6589343547821045, Loss(s): 0.21040812134742737,  Validation Loss(y): 0.6091252565383911\n",
            "Epoch 5/50, Loss(y): 0.6618297100067139, Loss(s): 0.20845931768417358,  Validation Loss(y): 0.6091791987419128\n",
            "Epoch 6/50, Loss(y): 0.6641389727592468, Loss(s): 0.20642583072185516,  Validation Loss(y): 0.6092584133148193\n",
            "Epoch 7/50, Loss(y): 0.6672517657279968, Loss(s): 0.20419777929782867,  Validation Loss(y): 0.6093438267707825\n",
            "Epoch 8/50, Loss(y): 0.6697092652320862, Loss(s): 0.2020144909620285,  Validation Loss(y): 0.6094558238983154\n",
            "Epoch 00058: reducing learning rate of group 0 to 1.0000e-04.\n",
            "Epoch 00058: reducing learning rate of group 0 to 1.0000e-04.\n",
            "Epoch 00058: reducing learning rate of group 0 to 1.0000e-04.\n",
            "Epoch 9/50, Loss(y): 0.6444123983383179, Loss(s): 0.20414334535598755,  Validation Loss(y): 0.6095523238182068\n",
            "Early Stopping\n",
            "Accuracy: 67.45%\n"
          ]
        }
      ]
    },
    {
      "cell_type": "markdown",
      "source": [
        "# **Part 3**\n",
        "\n",
        "Ethical Reflection"
      ],
      "metadata": {
        "id": "kIBEScsoyoTl"
      }
    },
    {
      "cell_type": "markdown",
      "source": [
        "a. In the context of recidivism prediction for COMPAS, present an argument in favour of aiming for demographic parity.\n",
        "\n",
        "  Demographic Parity can be defined as a concept that aims to ensure that the predicted outcomes or decisions of the model to be fair and unbias. This can be achieved by having the same distribution of positives for every demographic, so that the model can learn to predict the same outcome distribution across different groups. Regardless of factors such as race, and gender. This seems fair in the context of the recidivism prediction for COMPAS. Demographic parity for recidivism prediction for COMPAS would mean having the same proportion of positive classifications for every race demographic, which is fair since it eliminates biases. The biggest concern is that model can replicated human biases in race and gender in selecting recidivism, and therefore having demographic parity would help in eliminating that."
      ],
      "metadata": {
        "id": "2m5k5gvNyrFe"
      }
    },
    {
      "cell_type": "markdown",
      "source": [
        "b. In the context of recidivism prediction for COMPAS, present an argument in favour of aiming for false-positive parity.\n",
        "\n",
        "False-positve parity can be defined as a concept that aims to ensure that the rate of false positive predictions is equal across different demographic groups.In the the context of the recividism prediction for COMPAS, ensuring false-positive parity accross different demographic is fair since it will eliminate racial or gender bias. If false-positive parity is not achieved in this case, there could be racial bias such as more black prisoners are being wrongly classified than white prisoners, or more male are being misclassified than female. As a result, ensuring false positive parity across the demographics will help towards eliminating the racial and gender biases."
      ],
      "metadata": {
        "id": "0dgofBag64Dw"
      }
    },
    {
      "cell_type": "markdown",
      "source": [
        "c. In the context of recidivism prediction for COMPAS, present an argument in favour of aiming for calibration.\n",
        "\n",
        "Calibration in the context of a machine learning model can be explained as when the machine learning model can output a probability that is accurate to the real world. In another word, the model is an accurate reflection of the events it predicts. In the context of recidivism for COMPAS, there is a strong case for aiming for calibration. The goal of the COMPAS model is to output a probability of reoffending for a person that is accurate based on real world probability of reoffending. For example, if a person has a 65 percent chance of reoffending, the model should be able to predict that. Essentially, a well calibrated model will give an accurate prediction of a prisoner reoffending. This is crucial when looking at different demographics. In a model that is not well calibrated, a group of prisoners with one race demographic that is most likely to offend can be predicted as less likely to offend, which is incorrect, and vice versa.\n"
      ],
      "metadata": {
        "id": "bnB6B1HW_jHu"
      }
    },
    {
      "cell_type": "markdown",
      "source": [
        "d. In the context of recidivism prediction for COMPAS, consider Sharad Goel’s concepts of aggregate social welfare, and aggregate social welfare as computed for each demographic separately. Make one argument in favour of using those concepts. Make two arguments against those thinking that those concepts should guide the design of systems; at least one of those arguments should be specific to the aggregate social welfare as computed for each demograhic separately.\n",
        "\n",
        "\n",
        "In the context of recidivism prediction for COMPAS, one argument can be made in favour of Sharad Goel's concepts of aggregate social welfare and aggregate social welfare as computed for each demographic separetely is that it allows for a more nuanced way of understanding how many different decisions and policies may impact different groups within a certain population. As a result, by calculating social welfare measures for each demographic individually and separately, it becomes easier to spot potential disparities or potential biases in the system, and further work can be done to address these biases.\n",
        "\n",
        "There are two arguments that can also be made against using these concepts to guide the design of systems. The concept of aggregate social welfare oversimplifies the complex nature of social systems. As a result, it may not always be accurate to the interests of all individuals within a population. For example, a policy or decision that maximizes aggregate social welfare may still disproportionaltely harm certain individuals or communities. Secondly, The concept of aggregate social welfare as computed for each demographic separately may lead to the creation of silos that will treat differing groups as isolated from each other. As a result, harmful stereotypes can occur due to the isolation and social division will be encouraged. Furthermore, intersectional identities are not taken into account, where individuals may belong to multiple demographic at the same time, which significantly complicates the analysis.\n",
        "\n"
      ],
      "metadata": {
        "id": "M9psA_5AJdCQ"
      }
    },
    {
      "cell_type": "markdown",
      "source": [
        "e. There are many contexts in which prediction systems are currently being used. Examples include credit scores; university admissions; insurance rate offers; early-warning systems for deterioriating patients in hospital. Pick one field (not necessarily one of the ones I listed) where you think the ethical considerations are different from the ethical considerations for COMPAS. Argue that the ethical considerations for the two cases are different, and connect your argument to observational and causal measures of fairness that we discussed in class.\n",
        "\n",
        "One field where ethical considerations of predictive algorithms are used to identify patients who are at high risk of developing certain medical conditions or illnesses. In this context, the ethical considerations differ from those for COMPAS. For example, a false negative or false positive prediction can result in much more devasting outcome than the case for COMPAS. A false negative prediction that a patient is not at risk of developing a serious illness could result in a delay of much needed treatment and could lead to a life-threatening condition if delayed for too long. On the flip side, false positive prediction could result in unnecessary medical help, which could be expensive, and could potentially threaten the patient's health. For the case of COMPAS, false negative will remove a prisoner's rights away even though they have earned it but will not threaten anyone's health. As a result, it is important to consider both observational and causal measures of fairness when developing and using predictive algorithms in healthcare. Fairness is one of the key priorities and observational measures of fairness can be used to achieve that; measures include ensuring that the data used to train the algorithm is representative of the entire population, and is well calibrated to not contain biases such as race, or gender. Additionally, causal measures of fairness can be used to ensure that the algorithm is not only accurate but also achieves desirable outcomes, such as reducing healthcare disparities or improving health outcomes for underrepresented groups.\n"
      ],
      "metadata": {
        "id": "mw79fwk3XcAK"
      }
    }
  ]
}
